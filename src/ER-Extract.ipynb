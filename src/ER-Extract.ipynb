{
 "cells": [
  {
   "cell_type": "code",
   "execution_count": 6,
   "metadata": {},
   "outputs": [
    {
     "name": "stdout",
     "output_type": "stream",
     "text": [
      "relation2id.txt 파일에 저장되었습니다: C:/Users/kodonghwan/Desktop/portfolio/최종 포트폴리오/CoT를 활용한 개체 유형 데이터세트 구축/dataset/WN18RR/relation2id.txt\n",
      "entity2id.txt 파일에 저장되었습니다: C:/Users/kodonghwan/Desktop/portfolio/최종 포트폴리오/CoT를 활용한 개체 유형 데이터세트 구축/dataset/WN18RR/entity2id.txt\n"
     ]
    }
   ],
   "source": [
    "train_file = 'C:/Users/kodonghwan/Desktop/portfolio/최종 포트폴리오/CoT를 활용한 개체 유형 데이터세트 구축/dataset/WN18RR/train.txt'\n",
    "valid_file = 'C:/Users/kodonghwan/Desktop/portfolio/최종 포트폴리오/CoT를 활용한 개체 유형 데이터세트 구축/dataset/WN18RR/valid.txt'\n",
    "test_file = 'C:/Users/kodonghwan/Desktop/portfolio/최종 포트폴리오/CoT를 활용한 개체 유형 데이터세트 구축/dataset/WN18RR/test.txt'\n",
    "\n",
    "entity1_list = []\n",
    "relation_list = []\n",
    "entity2_list = []\n",
    "\n",
    "def read_file(file_path):\n",
    "    with open(file_path, 'r') as file:\n",
    "        lines = file.readlines()\n",
    "    \n",
    "    for line in lines:\n",
    "        parts = line.strip().split('\\t')\n",
    "        if len(parts) == 3:\n",
    "            source, relation, target = parts\n",
    "            entity1_list.append(source)\n",
    "            relation_list.append(relation)\n",
    "            entity2_list.append(target)\n",
    "\n",
    "read_file(train_file)\n",
    "read_file(valid_file)\n",
    "read_file(test_file)\n",
    "\n",
    "relation_list = list(set(relation_list))\n",
    "relation_dict = {relation: index for index, relation in enumerate(relation_list)}\n",
    "\n",
    "# relation2id.txt 파일에 고유 엔티티와 번호 저장\n",
    "output_file = 'C:/Users/kodonghwan/Desktop/portfolio/최종 포트폴리오/CoT를 활용한 개체 유형 데이터세트 구축/dataset/WN18RR/relation2id.txt'\n",
    "\n",
    "# 고유한 엔티티와 번호가 매핑된 딕셔너리 (앞에서 생성한 relation_dict 사용)\n",
    "with open(output_file, 'w') as file:\n",
    "    for relation, index in relation_dict.items():\n",
    "        # 파일에 관계와 번호를 \"관계 번호\" 형식으로 저장\n",
    "        file.write(f\"{relation} {index}\\n\")\n",
    "\n",
    "print(f\"relation2id.txt 파일에 저장되었습니다: {output_file}\")\n",
    "\n",
    "unique_entities = list(set(entity1_list + entity2_list))\n",
    "entity_dict = {entity: index for index, entity in enumerate(unique_entities)}\n",
    "\n",
    "# entity2id.txt 파일에 고유 엔티티와 번호 저장\n",
    "output_file = 'C:/Users/kodonghwan/Desktop/portfolio/최종 포트폴리오/CoT를 활용한 개체 유형 데이터세트 구축/dataset/WN18RR/entity2id.txt'\n",
    "\n",
    "# 고유한 엔티티와 번호가 매핑된 딕셔너리 (앞에서 생성한 entity_dict 사용)\n",
    "with open(output_file, 'w') as file:\n",
    "    for entity, index in entity_dict.items():\n",
    "        # 파일에 엔티티와 번호를 \"엔티티 번호\" 형식으로 저장\n",
    "        file.write(f\"{entity} {index}\\n\")\n",
    "\n",
    "print(f\"entity2id.txt 파일에 저장되었습니다: {output_file}\")"
   ]
  }
 ],
 "metadata": {
  "kernelspec": {
   "display_name": "Python 3",
   "language": "python",
   "name": "python3"
  },
  "language_info": {
   "codemirror_mode": {
    "name": "ipython",
    "version": 3
   },
   "file_extension": ".py",
   "mimetype": "text/x-python",
   "name": "python",
   "nbconvert_exporter": "python",
   "pygments_lexer": "ipython3",
   "version": "3.12.9"
  }
 },
 "nbformat": 4,
 "nbformat_minor": 2
}
